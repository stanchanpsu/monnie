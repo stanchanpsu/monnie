{
 "cells": [
  {
   "cell_type": "markdown",
   "metadata": {},
   "source": [
    "# Import the modules\n",
    "import cv2\n",
    "from matplotlib import pyplot as plt\n",
    "from skimage.feature import hog\n",
    "from sklearn.externals import joblib\n",
    "import numpy as np\n",
    "import time\n",
    "\n",
    "cap = cv2.VideoCapture(0)\n",
    "classifier = \"digits_cls.pkl\"\n",
    "clf, pp = joblib.load(classifier)\n",
    "blank_image = np.zeros((600,800,3), np.uint8)\n",
    "\n",
    "while(True):\n",
    "    # Capture frame-by-frame\n",
    "    ret, frame = cap.read()\n",
    "\n",
    "    # Our operations on the frame come here\n",
    "    im_gray = cv2.cvtColor(frame, cv2.COLOR_BGR2GRAY)\n",
    "    im_gray = cv2.GaussianBlur(im_gray, (5, 5), 0)\n",
    "    ret, im_th = cv2.threshold(im_gray, 200, 255, cv2.THRESH_BINARY_INV)\n",
    "    _, ctrs, hier = cv2.findContours(im_th.copy(), cv2.RETR_EXTERNAL, cv2.CHAIN_APPROX_SIMPLE)\n",
    "    rects = [cv2.boundingRect(ctr) for ctr in ctrs]\n",
    "    \n",
    "    answer = \"\"\n",
    "    for rect in rects:\n",
    "        # Draw the rectangles\n",
    "        offset = 10\n",
    "        x, y, w, h = rect\n",
    "        cv2.rectangle(im_gray, (x - offset, y - offset), (x+w +offset, y+h+offset), (0, 255, 0), 3)\n",
    "        roi = im_th[y-offset:y+h+offset, x-offset:x+w+offset]\n",
    "        roi = cv2.resize(roi, (28, 28), interpolation=cv2.INTER_AREA)\n",
    "        roi = cv2.dilate(roi, (3, 3))\n",
    "        roi_hog_fd, hog_image = hog(roi, orientations=9, pixels_per_cell=(14, 14), cells_per_block=(1, 1), visualize=True, block_norm=\"L1\")\n",
    "        roi_hog_fd = pp.transform(np.array([roi_hog_fd], 'float64'))\n",
    "        nbr = clf.predict(roi_hog_fd)\n",
    "        answer += str(nbr[0])\n",
    "\n",
    "    x,y,w,h = rects[0]\n",
    "    blank_image.fill(255)\n",
    "    cv2.putText(blank_image, answer, (x, y+h),cv2.FONT_HERSHEY_DUPLEX, 10, (0, 0, 0), 10)\n",
    "#     cv2.imshow('rectangle', im_gray)\n",
    "    cv2.imshow('output', blank_image)\n",
    "    cv2.imshow('gray', im_gray)\n",
    "    cv2.imshow('input', im_th)\n",
    "        \n",
    "    # Display the resulting frame\n",
    "#     cv2.imshow('frame',gray)\n",
    "#     time.sleep(.3)\n",
    "    if cv2.waitKey(1) & 0xFF == ord('q'):\n",
    "        break\n",
    "\n",
    "# When everything done, release the capture\n",
    "cap.release()\n",
    "cv2.destroyAllWindows()\n",
    "\n",
    "# image = \"images/pinta.jpg\"\n",
    "# im = cv2.imread(image)\n",
    "\n",
    "\n",
    "\n",
    "# Convert to grayscale and apply Gaussian filtering\n",
    "# im_gray = cv2.cvtColor(im, cv2.COLOR_BGR2GRAY)\n",
    "\n"
   ]
  },
  {
   "cell_type": "code",
   "execution_count": null,
   "metadata": {},
   "outputs": [],
   "source": []
  },
  {
   "cell_type": "code",
   "execution_count": null,
   "metadata": {},
   "outputs": [],
   "source": []
  },
  {
   "cell_type": "code",
   "execution_count": null,
   "metadata": {},
   "outputs": [],
   "source": []
  },
  {
   "cell_type": "code",
   "execution_count": null,
   "metadata": {},
   "outputs": [],
   "source": []
  },
  {
   "cell_type": "code",
   "execution_count": null,
   "metadata": {},
   "outputs": [],
   "source": []
  },
  {
   "cell_type": "code",
   "execution_count": null,
   "metadata": {},
   "outputs": [],
   "source": [
    "\n"
   ]
  },
  {
   "cell_type": "code",
   "execution_count": null,
   "metadata": {},
   "outputs": [],
   "source": []
  }
 ],
 "metadata": {
  "kernelspec": {
   "display_name": "Python 3",
   "language": "python",
   "name": "python3"
  },
  "language_info": {
   "codemirror_mode": {
    "name": "ipython",
    "version": 3
   },
   "file_extension": ".py",
   "mimetype": "text/x-python",
   "name": "python",
   "nbconvert_exporter": "python",
   "pygments_lexer": "ipython3",
   "version": "3.6.5"
  }
 },
 "nbformat": 4,
 "nbformat_minor": 2
}
