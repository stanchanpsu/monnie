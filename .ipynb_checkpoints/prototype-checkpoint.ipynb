{
 "cells": [
  {
   "cell_type": "code",
   "execution_count": 15,
   "metadata": {
    "scrolled": true
   },
   "outputs": [
    {
     "data": {
      "text/plain": [
       "<matplotlib.image.AxesImage at 0x7f19ce54c898>"
      ]
     },
     "execution_count": 15,
     "metadata": {},
     "output_type": "execute_result"
    },
    {
     "data": {
      "image/png": "[encoded data removed]",
      "text/plain": [
       "<Figure size 432x288 with 1 Axes>"
      ]
     },
     "metadata": {},
     "output_type": "display_data"
    }
   ],
   "source": [
    "%config IPCompleter.greedy=True\n",
    "\n",
    "import cv2 as cv\n",
    "import src.helpers as helpers\n",
    "from sklearn.externals import joblib\n",
    "import matplotlib.pyplot as plt\n",
    "\n",
    "RESIZED_IMAGE_WIDTH = 500\n",
    "image = cv.imread('images/4293-border.jpg')\n",
    "height, width, channels = image.shape\n",
    "resize_factor = RESIZED_IMAGE_WIDTH/width\n",
    "\n",
    "threshold = 100\n",
    "max_threshold = 200\n",
    "\n",
    "image = cv.resize(image, (0, 0), fx=resize_factor, fy=resize_factor, interpolation=cv.INTER_AREA)\n",
    "gray_image = cv.cvtColor(image, cv.COLOR_BGR2GRAY)\n",
    "blurred_image = cv.GaussianBlur(gray_image, (5, 5), 0)\n",
    "threshold_image = cv.adaptiveThreshold(blurred_image, 255, cv.ADAPTIVE_THRESH_GAUSSIAN_C,\n",
    "                                             cv.THRESH_BINARY_INV,11,2)\n",
    "threshold_image = cv.dilate(threshold_image, (5, 5))\n",
    "\n",
    "plt.imshow(threshold_image)\n",
    "# plt.imshow(edged)\n",
    "# edged = cv.cvtColor(edged, cv.COLOR_GRAY2BGR)\n",
    "# cv.imshow('edged', edged)\n",
    "\n",
    "image, contours, hier = cv.findContours(edged.copy(), cv.RETR_LIST, cv.CHAIN_APPROX_SIMPLE)\n"
   ]
  },
  {
   "cell_type": "code",
   "execution_count": null,
   "metadata": {},
   "outputs": [],
   "source": []
  },
  {
   "cell_type": "code",
   "execution_count": null,
   "metadata": {},
   "outputs": [],
   "source": []
  }
 ],
 "metadata": {
  "kernelspec": {
   "display_name": "Python 3",
   "language": "python",
   "name": "python3"
  },
  "language_info": {
   "codemirror_mode": {
    "name": "ipython",
    "version": 3
   },
   "file_extension": ".py",
   "mimetype": "text/x-python",
   "name": "python",
   "nbconvert_exporter": "python",
   "pygments_lexer": "ipython3",
   "version": "3.6.5"
  }
 },
 "nbformat": 4,
 "nbformat_minor": 2
}
