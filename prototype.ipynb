{
 "cells": [
  {
   "cell_type": "code",
   "execution_count": 19,
   "metadata": {},
   "outputs": [
    {
     "data": {
      "image/png": "[encoded data removed]",
      "text/plain": [
       "<Figure size 432x288 with 1 Axes>"
      ]
     },
     "metadata": {},
     "output_type": "display_data"
    }
   ],
   "source": [
    "%config IPCompleter.greedy=True\n",
    "\n",
    "import cv2 as cv\n",
    "import src.helpers as helpers\n",
    "from sklearn.externals import joblib\n",
    "import matplotlib.pyplot as plt\n",
    "\n",
    "RESIZED_IMAGE_WIDTH = 800\n",
    "image_path = 'images/notepad.jpg'\n",
    "image = cv.imread(image_path)\n",
    "height, width, channels = image.shape\n",
    "resize_factor = RESIZED_IMAGE_WIDTH/width\n",
    "\n",
    "image = cv.resize(image, (800, 800), interpolation=cv.INTER_AREA)\n",
    "processed_image = helpers.preprocess_image(image)\n",
    "\n",
    "model_file = \"digits_cls.pkl\"\n",
    "classifier, preprocessor = joblib.load(model_file)\n",
    "\n",
    "numbers = helpers.find_numbers(processed_image)\n",
    "\n",
    "for number in numbers:\n",
    "    margin = 20\n",
    "    x, y, w, h = number\n",
    "    bound_x = x - 40\n",
    "    bound_y = y - margin\n",
    "    bound_w = x + w + 40\n",
    "    bound_h = y + h + margin\n",
    "\n",
    "    # find region of interest (roi)\n",
    "    roi = processed_image[bound_y:bound_h, bound_x:bound_w]\n",
    "    plt.imshow(roi)\n",
    "    length = 28\n",
    "    dilate_width = 1\n",
    "    roi = cv.resize(roi, (length, length), interpolation=cv.INTER_AREA)\n",
    "    roi = cv.dilate(roi, (dilate_width, dilate_width))\n",
    "    plt.imshow(roi)\n"
   ]
  },
  {
   "cell_type": "code",
   "execution_count": null,
   "metadata": {},
   "outputs": [],
   "source": []
  }
 ],
 "metadata": {
  "kernelspec": {
   "display_name": "Python 3",
   "language": "python",
   "name": "python3"
  },
  "language_info": {
   "codemirror_mode": {
    "name": "ipython",
    "version": 3
   },
   "file_extension": ".py",
   "mimetype": "text/x-python",
   "name": "python",
   "nbconvert_exporter": "python",
   "pygments_lexer": "ipython3",
   "version": "3.6.5"
  }
 },
 "nbformat": 4,
 "nbformat_minor": 2
}
